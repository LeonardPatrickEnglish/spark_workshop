{
 "cells": [
  {
   "cell_type": "code",
   "execution_count": 1,
   "metadata": {
    "ExecuteTime": {
     "end_time": "2019-03-21T17:42:38.364204Z",
     "start_time": "2019-03-21T17:42:38.352216Z"
    }
   },
   "outputs": [
    {
     "data": {
      "text/html": [
       "<style>.container { width:100% !important; }</style>"
      ],
      "text/plain": [
       "<IPython.core.display.HTML object>"
      ]
     },
     "metadata": {},
     "output_type": "display_data"
    }
   ],
   "source": [
    "from IPython.core.display import display, HTML\n",
    "display(HTML(\"<style>.container { width:100% !important; }</style>\"))"
   ]
  },
  {
   "cell_type": "markdown",
   "metadata": {},
   "source": [
    "## Spark EDA/ETL Pipeline"
   ]
  },
  {
   "cell_type": "markdown",
   "metadata": {},
   "source": [
    "Spark is a unified processing engine that can analyze big data using SQL, machine learning, graph processing or real time stream analysis:\n",
    "\n",
    "![Spark Engines](http://curriculum-release.s3-website-us-west-2.amazonaws.com/wiki-book/book_intro/spark_4engines.png)\n",
    "\n",
    "We will mostly focus on Spark SQL, DataFrames and Machine Learning"
   ]
  },
  {
   "cell_type": "markdown",
   "metadata": {},
   "source": [
    "Although Spark supports four languages (Scala, Java, Python, R), tonight we will use Python.\n",
    "Broadly speaking, there are **2 APIs** for interacting with Spark:\n",
    "- **DataFrames/SQL/Datasets:** general, higher level API for users of Spark\n",
    "- **RDD:** a lower level API for spark internals and advanced programming"
   ]
  },
  {
   "cell_type": "markdown",
   "metadata": {},
   "source": [
    "Local mode is typically used for prototyping and learning Spark:"
   ]
  },
  {
   "cell_type": "markdown",
   "metadata": {},
   "source": [
    "![Notebook + Micro Cluster](http://curriculum-release.s3-website-us-west-2.amazonaws.com/wiki-book/book_intro/notebook_microcluster.png)"
   ]
  },
  {
   "cell_type": "markdown",
   "metadata": {},
   "source": [
    "## Download FireCalls Dataset"
   ]
  },
  {
   "cell_type": "markdown",
   "metadata": {},
   "source": [
    "Note, you can also access the data directly from sfgov.org via this link: https://data.sfgov.org/Public-Safety/Fire-Department-Calls-for-Service/nuek-vuh3\n",
    "\n",
    "This dataset contains calls to Fire Department. They record various attributes such as call number, Call Date, Call Time, location, Address etc. \n",
    "\n",
    "Each call is assigned an Original and Final Priority (Emergency or Not Emergency). Our task is to **predict the final priority of the call based on attributes.**"
   ]
  },
  {
   "cell_type": "code",
   "execution_count": 1,
   "metadata": {},
   "outputs": [],
   "source": [
    "%matplotlib inline\n",
    "\n",
    "import matplotlib.pyplot as plt\n",
    "import seaborn as sns"
   ]
  },
  {
   "cell_type": "markdown",
   "metadata": {},
   "source": [
    "### Create Spark Session"
   ]
  },
  {
   "cell_type": "code",
   "execution_count": 2,
   "metadata": {},
   "outputs": [],
   "source": [
    "# PySpark :\n",
    "from pyspark.sql import SparkSession\n",
    "import os\n",
    "os.environ[\"PYSPARK_PYTHON\"]=\"/usr/bin/python3\"\n",
    "os.environ[\"PYSPARK_DRIVER_PYTHON\"]=\"/usr/bin/python3\"\n",
    "os.environ['PYSPARK_SUBMIT_ARGS'] = '--packages \\\n",
    "                                    org.postgresql:postgresql:42.1.1,org.apache.hadoop:hadoop-aws:2.7.1,com.datastax.spark:spark-cassandra-connector_2.11:2.3.0 \\\n",
    "                                    --executor-memory 4G \\\n",
    "                                    pyspark-shell'\n",
    "spark = SparkSession.builder.appName('EDA with Spark')\\\n",
    "                            .master(\"spark://localhost:7077\")\\\n",
    "                            .getOrCreate()"
   ]
  },
  {
   "cell_type": "code",
   "execution_count": 3,
   "metadata": {},
   "outputs": [
    {
     "data": {
      "text/html": [
       "\n",
       "            <div>\n",
       "                <p><b>SparkSession - in-memory</b></p>\n",
       "                \n",
       "        <div>\n",
       "            <p><b>SparkContext</b></p>\n",
       "\n",
       "            <p><a href=\"http://192.168.0.80:4040\">Spark UI</a></p>\n",
       "\n",
       "            <dl>\n",
       "              <dt>Version</dt>\n",
       "                <dd><code>v2.4.0</code></dd>\n",
       "              <dt>Master</dt>\n",
       "                <dd><code>spark://localhost:7077</code></dd>\n",
       "              <dt>AppName</dt>\n",
       "                <dd><code>EDA with Spark</code></dd>\n",
       "            </dl>\n",
       "        </div>\n",
       "        \n",
       "            </div>\n",
       "        "
      ],
      "text/plain": [
       "<pyspark.sql.session.SparkSession at 0x7f17938157f0>"
      ]
     },
     "execution_count": 3,
     "metadata": {},
     "output_type": "execute_result"
    }
   ],
   "source": [
    "spark"
   ]
  },
  {
   "cell_type": "markdown",
   "metadata": {},
   "source": [
    "### Load Data Frame"
   ]
  },
  {
   "cell_type": "markdown",
   "metadata": {},
   "source": [
    "Using the SparkSession, create a DataFrame from the CSV file by inferring the schema:"
   ]
  },
  {
   "cell_type": "code",
   "execution_count": 4,
   "metadata": {
    "ExecuteTime": {
     "end_time": "2019-03-21T14:11:57.224252Z",
     "start_time": "2019-03-21T14:11:09.086179Z"
    }
   },
   "outputs": [],
   "source": [
    "fireServiceCallsDF2 = spark.read.csv('./data/fire_dept_calls.csv', \n",
    "                                    header=True, \n",
    "                                    inferSchema=True)"
   ]
  },
  {
   "cell_type": "code",
   "execution_count": 5,
   "metadata": {
    "ExecuteTime": {
     "end_time": "2019-03-21T14:11:58.920210Z",
     "start_time": "2019-03-21T14:11:57.225601Z"
    }
   },
   "outputs": [
    {
     "data": {
      "text/plain": [
       "4881698"
      ]
     },
     "execution_count": 5,
     "metadata": {},
     "output_type": "execute_result"
    }
   ],
   "source": [
    "fireServiceCallsDF2.count()"
   ]
  },
  {
   "cell_type": "markdown",
   "metadata": {},
   "source": [
    "Notice that the above cell takes time to run since it is inferring the schema, by going throught the whole dataset once.\n",
    "\n",
    "Inferring the schema works for smaller datasets. But when working on multi-TB+ data, it's better to provide an **explicit pre-defined schema manually**, so there's no inferring cost:"
   ]
  },
  {
   "cell_type": "markdown",
   "metadata": {},
   "source": [
    "### Load Data Frame with Schema"
   ]
  },
  {
   "cell_type": "code",
   "execution_count": 127,
   "metadata": {
    "ExecuteTime": {
     "end_time": "2019-03-21T15:21:05.540326Z",
     "start_time": "2019-03-21T15:21:05.501586Z"
    }
   },
   "outputs": [],
   "source": [
    "from pyspark.sql.types import StructType, StructField, IntegerType, StringType, BooleanType\n",
    "\n",
    "# Note that we are removing all space characters from the col names to prevent errors when writing to Parquet later\n",
    "fireSchema = StructType([StructField('CallNumber', IntegerType(), True),\n",
    "                     StructField('UnitID', StringType(), True),\n",
    "                     StructField('IncidentNumber', IntegerType(), True),\n",
    "                     StructField('CallType', StringType(), True),                  \n",
    "                     StructField('CallDate', StringType(), True),       \n",
    "                     StructField('WatchDate', StringType(), True),       \n",
    "                     StructField('ReceivedDtTm', StringType(), True),       \n",
    "                     StructField('EntryDtTm', StringType(), True),       \n",
    "                     StructField('DispatchDtTm', StringType(), True),       \n",
    "                     StructField('ResponseDtTm', StringType(), True),       \n",
    "                     StructField('OnSceneDtTm', StringType(), True),       \n",
    "                     StructField('TransportDtTm', StringType(), True),                  \n",
    "                     StructField('HospitalDtTm', StringType(), True),       \n",
    "                     StructField('CallFinalDisposition', StringType(), True),       \n",
    "                     StructField('AvailableDtTm', StringType(), True),       \n",
    "                     StructField('Address', StringType(), True),       \n",
    "                     StructField('City', StringType(), True),       \n",
    "                     StructField('ZipcodeofIncident', IntegerType(), True),       \n",
    "                     StructField('Battalion', StringType(), True),                 \n",
    "                     StructField('StationArea', StringType(), True),       \n",
    "                     StructField('Box', StringType(), True),       \n",
    "                     StructField('OriginalPriority', StringType(), True),       \n",
    "                     StructField('Priority', StringType(), True),       \n",
    "                     StructField('FinalPriority', IntegerType(), True),       \n",
    "                     StructField('ALSUnit', BooleanType(), True),       \n",
    "                     StructField('CallTypeGroup', StringType(), True),\n",
    "                     StructField('NumberofAlarms', IntegerType(), True),\n",
    "                     StructField('UnitType', StringType(), True),\n",
    "                     StructField('Unitsequenceincalldispatch', IntegerType(), True),\n",
    "                     StructField('FirePreventionDistrict', StringType(), True),\n",
    "                     StructField('SupervisorDistrict', StringType(), True),\n",
    "                     StructField('NeighborhoodDistrict', StringType(), True),\n",
    "                     StructField('Location', StringType(), True),\n",
    "                     StructField('RowID', StringType(), True)])"
   ]
  },
  {
   "cell_type": "markdown",
   "metadata": {},
   "source": [
    "Notice that we specified the schema this time!"
   ]
  },
  {
   "cell_type": "code",
   "execution_count": 128,
   "metadata": {
    "ExecuteTime": {
     "end_time": "2019-03-21T15:21:06.671628Z",
     "start_time": "2019-03-21T15:21:06.654151Z"
    }
   },
   "outputs": [],
   "source": [
    "fireServiceCallsDF = spark.read.csv('./data/fire_dept_calls.csv',\n",
    "                                    header=True, schema=fireSchema)"
   ]
  },
  {
   "cell_type": "code",
   "execution_count": 8,
   "metadata": {
    "ExecuteTime": {
     "end_time": "2019-03-21T14:12:14.110906Z",
     "start_time": "2019-03-21T14:12:12.654429Z"
    }
   },
   "outputs": [
    {
     "data": {
      "text/plain": [
       "4881698"
      ]
     },
     "execution_count": 8,
     "metadata": {},
     "output_type": "execute_result"
    }
   ],
   "source": [
    "fireServiceCallsDF.count()"
   ]
  },
  {
   "cell_type": "markdown",
   "metadata": {},
   "source": [
    "### Show first 5 records"
   ]
  },
  {
   "cell_type": "markdown",
   "metadata": {},
   "source": [
    "Look at the first 5 records in the DataFrame:"
   ]
  },
  {
   "cell_type": "code",
   "execution_count": 9,
   "metadata": {
    "ExecuteTime": {
     "end_time": "2019-03-21T14:12:26.103479Z",
     "start_time": "2019-03-21T14:12:25.457845Z"
    }
   },
   "outputs": [
    {
     "data": {
      "text/html": [
       "<div>\n",
       "<style scoped>\n",
       "    .dataframe tbody tr th:only-of-type {\n",
       "        vertical-align: middle;\n",
       "    }\n",
       "\n",
       "    .dataframe tbody tr th {\n",
       "        vertical-align: top;\n",
       "    }\n",
       "\n",
       "    .dataframe thead th {\n",
       "        text-align: right;\n",
       "    }\n",
       "</style>\n",
       "<table border=\"1\" class=\"dataframe\">\n",
       "  <thead>\n",
       "    <tr style=\"text-align: right;\">\n",
       "      <th></th>\n",
       "      <th>CallNumber</th>\n",
       "      <th>UnitID</th>\n",
       "      <th>IncidentNumber</th>\n",
       "      <th>CallType</th>\n",
       "      <th>CallDate</th>\n",
       "      <th>WatchDate</th>\n",
       "      <th>ReceivedDtTm</th>\n",
       "      <th>EntryDtTm</th>\n",
       "      <th>DispatchDtTm</th>\n",
       "      <th>ResponseDtTm</th>\n",
       "      <th>...</th>\n",
       "      <th>ALSUnit</th>\n",
       "      <th>CallTypeGroup</th>\n",
       "      <th>NumberofAlarms</th>\n",
       "      <th>UnitType</th>\n",
       "      <th>Unitsequenceincalldispatch</th>\n",
       "      <th>FirePreventionDistrict</th>\n",
       "      <th>SupervisorDistrict</th>\n",
       "      <th>NeighborhoodDistrict</th>\n",
       "      <th>Location</th>\n",
       "      <th>RowID</th>\n",
       "    </tr>\n",
       "  </thead>\n",
       "  <tbody>\n",
       "    <tr>\n",
       "      <th>0</th>\n",
       "      <td>1030101</td>\n",
       "      <td>E18</td>\n",
       "      <td>306091</td>\n",
       "      <td>Medical Incident</td>\n",
       "      <td>04/12/2000</td>\n",
       "      <td>04/12/2000</td>\n",
       "      <td>04/12/2000 09:00:29 PM</td>\n",
       "      <td>04/12/2000 09:01:40 PM</td>\n",
       "      <td>04/12/2000 09:02:00 PM</td>\n",
       "      <td>None</td>\n",
       "      <td>...</td>\n",
       "      <td>False</td>\n",
       "      <td>None</td>\n",
       "      <td>1</td>\n",
       "      <td>ENGINE</td>\n",
       "      <td>1</td>\n",
       "      <td>8</td>\n",
       "      <td>4</td>\n",
       "      <td>Sunset/Parkside</td>\n",
       "      <td>(37.7487247711275, -122.495504020186)</td>\n",
       "      <td>001030101-E18</td>\n",
       "    </tr>\n",
       "    <tr>\n",
       "      <th>1</th>\n",
       "      <td>1030104</td>\n",
       "      <td>M14</td>\n",
       "      <td>30612</td>\n",
       "      <td>Medical Incident</td>\n",
       "      <td>04/12/2000</td>\n",
       "      <td>04/12/2000</td>\n",
       "      <td>04/12/2000 09:09:02 PM</td>\n",
       "      <td>04/12/2000 09:10:17 PM</td>\n",
       "      <td>04/12/2000 09:10:29 PM</td>\n",
       "      <td>04/12/2000 09:12:11 PM</td>\n",
       "      <td>...</td>\n",
       "      <td>True</td>\n",
       "      <td>None</td>\n",
       "      <td>1</td>\n",
       "      <td>MEDIC</td>\n",
       "      <td>2</td>\n",
       "      <td>8</td>\n",
       "      <td>4</td>\n",
       "      <td>Sunset/Parkside</td>\n",
       "      <td>(37.7540326780595, -122.502185504543)</td>\n",
       "      <td>001030104-M14</td>\n",
       "    </tr>\n",
       "    <tr>\n",
       "      <th>2</th>\n",
       "      <td>1030106</td>\n",
       "      <td>M36</td>\n",
       "      <td>30614</td>\n",
       "      <td>Medical Incident</td>\n",
       "      <td>04/12/2000</td>\n",
       "      <td>04/12/2000</td>\n",
       "      <td>04/12/2000 09:09:44 PM</td>\n",
       "      <td>04/12/2000 09:10:56 PM</td>\n",
       "      <td>04/12/2000 09:11:47 PM</td>\n",
       "      <td>None</td>\n",
       "      <td>...</td>\n",
       "      <td>False</td>\n",
       "      <td>None</td>\n",
       "      <td>1</td>\n",
       "      <td>MEDIC</td>\n",
       "      <td>1</td>\n",
       "      <td>2</td>\n",
       "      <td>6</td>\n",
       "      <td>Tenderloin</td>\n",
       "      <td>(37.7764405100838, -122.418481123408)</td>\n",
       "      <td>001030106-M36</td>\n",
       "    </tr>\n",
       "    <tr>\n",
       "      <th>3</th>\n",
       "      <td>1030107</td>\n",
       "      <td>E01</td>\n",
       "      <td>30615</td>\n",
       "      <td>Alarms</td>\n",
       "      <td>04/12/2000</td>\n",
       "      <td>04/12/2000</td>\n",
       "      <td>04/12/2000 09:13:47 PM</td>\n",
       "      <td>04/12/2000 09:13:51 PM</td>\n",
       "      <td>04/12/2000 09:14:13 PM</td>\n",
       "      <td>04/12/2000 09:15:58 PM</td>\n",
       "      <td>...</td>\n",
       "      <td>False</td>\n",
       "      <td>None</td>\n",
       "      <td>1</td>\n",
       "      <td>ENGINE</td>\n",
       "      <td>3</td>\n",
       "      <td>3</td>\n",
       "      <td>6</td>\n",
       "      <td>Tenderloin</td>\n",
       "      <td>(37.7825474000421, -122.412247935495)</td>\n",
       "      <td>001030107-E01</td>\n",
       "    </tr>\n",
       "    <tr>\n",
       "      <th>4</th>\n",
       "      <td>1030108</td>\n",
       "      <td>RS1</td>\n",
       "      <td>30616</td>\n",
       "      <td>Medical Incident</td>\n",
       "      <td>04/12/2000</td>\n",
       "      <td>04/12/2000</td>\n",
       "      <td>04/12/2000 09:14:43 PM</td>\n",
       "      <td>04/12/2000 09:16:11 PM</td>\n",
       "      <td>04/12/2000 09:16:24 PM</td>\n",
       "      <td>04/12/2000 09:18:20 PM</td>\n",
       "      <td>...</td>\n",
       "      <td>False</td>\n",
       "      <td>None</td>\n",
       "      <td>1</td>\n",
       "      <td>RESCUE SQUAD</td>\n",
       "      <td>2</td>\n",
       "      <td>1</td>\n",
       "      <td>3</td>\n",
       "      <td>Financial District/South Beach</td>\n",
       "      <td>(37.7863072236365, -122.405294845215)</td>\n",
       "      <td>001030108-RS1</td>\n",
       "    </tr>\n",
       "  </tbody>\n",
       "</table>\n",
       "<p>5 rows × 34 columns</p>\n",
       "</div>"
      ],
      "text/plain": [
       "   CallNumber UnitID  IncidentNumber          CallType    CallDate  \\\n",
       "0     1030101    E18          306091  Medical Incident  04/12/2000   \n",
       "1     1030104    M14           30612  Medical Incident  04/12/2000   \n",
       "2     1030106    M36           30614  Medical Incident  04/12/2000   \n",
       "3     1030107    E01           30615            Alarms  04/12/2000   \n",
       "4     1030108    RS1           30616  Medical Incident  04/12/2000   \n",
       "\n",
       "    WatchDate            ReceivedDtTm               EntryDtTm  \\\n",
       "0  04/12/2000  04/12/2000 09:00:29 PM  04/12/2000 09:01:40 PM   \n",
       "1  04/12/2000  04/12/2000 09:09:02 PM  04/12/2000 09:10:17 PM   \n",
       "2  04/12/2000  04/12/2000 09:09:44 PM  04/12/2000 09:10:56 PM   \n",
       "3  04/12/2000  04/12/2000 09:13:47 PM  04/12/2000 09:13:51 PM   \n",
       "4  04/12/2000  04/12/2000 09:14:43 PM  04/12/2000 09:16:11 PM   \n",
       "\n",
       "             DispatchDtTm            ResponseDtTm  ... ALSUnit CallTypeGroup  \\\n",
       "0  04/12/2000 09:02:00 PM                    None  ...   False          None   \n",
       "1  04/12/2000 09:10:29 PM  04/12/2000 09:12:11 PM  ...    True          None   \n",
       "2  04/12/2000 09:11:47 PM                    None  ...   False          None   \n",
       "3  04/12/2000 09:14:13 PM  04/12/2000 09:15:58 PM  ...   False          None   \n",
       "4  04/12/2000 09:16:24 PM  04/12/2000 09:18:20 PM  ...   False          None   \n",
       "\n",
       "  NumberofAlarms      UnitType Unitsequenceincalldispatch  \\\n",
       "0              1        ENGINE                          1   \n",
       "1              1         MEDIC                          2   \n",
       "2              1         MEDIC                          1   \n",
       "3              1        ENGINE                          3   \n",
       "4              1  RESCUE SQUAD                          2   \n",
       "\n",
       "  FirePreventionDistrict SupervisorDistrict            NeighborhoodDistrict  \\\n",
       "0                      8                  4                 Sunset/Parkside   \n",
       "1                      8                  4                 Sunset/Parkside   \n",
       "2                      2                  6                      Tenderloin   \n",
       "3                      3                  6                      Tenderloin   \n",
       "4                      1                  3  Financial District/South Beach   \n",
       "\n",
       "                                Location          RowID  \n",
       "0  (37.7487247711275, -122.495504020186)  001030101-E18  \n",
       "1  (37.7540326780595, -122.502185504543)  001030104-M14  \n",
       "2  (37.7764405100838, -122.418481123408)  001030106-M36  \n",
       "3  (37.7825474000421, -122.412247935495)  001030107-E01  \n",
       "4  (37.7863072236365, -122.405294845215)  001030108-RS1  \n",
       "\n",
       "[5 rows x 34 columns]"
      ]
     },
     "execution_count": 9,
     "metadata": {},
     "output_type": "execute_result"
    }
   ],
   "source": [
    "fireServiceCallsDF.limit(5).toPandas()"
   ]
  },
  {
   "cell_type": "markdown",
   "metadata": {},
   "source": [
    "### Column Names and Data Types"
   ]
  },
  {
   "cell_type": "markdown",
   "metadata": {},
   "source": [
    "Print just the column names in the DataFrame:"
   ]
  },
  {
   "cell_type": "code",
   "execution_count": 10,
   "metadata": {
    "ExecuteTime": {
     "end_time": "2019-03-21T14:12:40.226004Z",
     "start_time": "2019-03-21T14:12:40.220185Z"
    }
   },
   "outputs": [
    {
     "name": "stdout",
     "output_type": "stream",
     "text": [
      "root\n",
      " |-- CallNumber: integer (nullable = true)\n",
      " |-- UnitID: string (nullable = true)\n",
      " |-- IncidentNumber: integer (nullable = true)\n",
      " |-- CallType: string (nullable = true)\n",
      " |-- CallDate: string (nullable = true)\n",
      " |-- WatchDate: string (nullable = true)\n",
      " |-- ReceivedDtTm: string (nullable = true)\n",
      " |-- EntryDtTm: string (nullable = true)\n",
      " |-- DispatchDtTm: string (nullable = true)\n",
      " |-- ResponseDtTm: string (nullable = true)\n",
      " |-- OnSceneDtTm: string (nullable = true)\n",
      " |-- TransportDtTm: string (nullable = true)\n",
      " |-- HospitalDtTm: string (nullable = true)\n",
      " |-- CallFinalDisposition: string (nullable = true)\n",
      " |-- AvailableDtTm: string (nullable = true)\n",
      " |-- Address: string (nullable = true)\n",
      " |-- City: string (nullable = true)\n",
      " |-- ZipcodeofIncident: integer (nullable = true)\n",
      " |-- Battalion: string (nullable = true)\n",
      " |-- StationArea: string (nullable = true)\n",
      " |-- Box: string (nullable = true)\n",
      " |-- OriginalPriority: string (nullable = true)\n",
      " |-- Priority: string (nullable = true)\n",
      " |-- FinalPriority: integer (nullable = true)\n",
      " |-- ALSUnit: boolean (nullable = true)\n",
      " |-- CallTypeGroup: string (nullable = true)\n",
      " |-- NumberofAlarms: integer (nullable = true)\n",
      " |-- UnitType: string (nullable = true)\n",
      " |-- Unitsequenceincalldispatch: integer (nullable = true)\n",
      " |-- FirePreventionDistrict: string (nullable = true)\n",
      " |-- SupervisorDistrict: string (nullable = true)\n",
      " |-- NeighborhoodDistrict: string (nullable = true)\n",
      " |-- Location: string (nullable = true)\n",
      " |-- RowID: string (nullable = true)\n",
      "\n"
     ]
    }
   ],
   "source": [
    "fireServiceCallsDF.printSchema()"
   ]
  },
  {
   "cell_type": "markdown",
   "metadata": {},
   "source": [
    "### Number of columns"
   ]
  },
  {
   "cell_type": "code",
   "execution_count": 11,
   "metadata": {
    "ExecuteTime": {
     "end_time": "2019-03-21T14:12:41.280392Z",
     "start_time": "2019-03-21T14:12:41.273587Z"
    }
   },
   "outputs": [
    {
     "data": {
      "text/plain": [
       "34"
      ]
     },
     "execution_count": 11,
     "metadata": {},
     "output_type": "execute_result"
    }
   ],
   "source": [
    "len(fireServiceCallsDF.columns)"
   ]
  },
  {
   "cell_type": "markdown",
   "metadata": {},
   "source": [
    "### Number of Rows"
   ]
  },
  {
   "cell_type": "markdown",
   "metadata": {},
   "source": [
    "Count how many rows total there are in DataFrame (and comparre how long it takes to do a full scan from S3):"
   ]
  },
  {
   "cell_type": "code",
   "execution_count": 12,
   "metadata": {
    "ExecuteTime": {
     "end_time": "2019-03-21T14:12:44.116289Z",
     "start_time": "2019-03-21T14:12:42.659778Z"
    }
   },
   "outputs": [
    {
     "data": {
      "text/plain": [
       "4881698"
      ]
     },
     "execution_count": 12,
     "metadata": {},
     "output_type": "execute_result"
    }
   ],
   "source": [
    "fireServiceCallsDF.count()"
   ]
  },
  {
   "cell_type": "markdown",
   "metadata": {},
   "source": [
    "There are 4.8 million rows in the DataFrame and it takes some seconds to do a full read of it."
   ]
  },
  {
   "cell_type": "markdown",
   "metadata": {},
   "source": [
    "### Missing Value Count"
   ]
  },
  {
   "cell_type": "code",
   "execution_count": 13,
   "metadata": {
    "ExecuteTime": {
     "end_time": "2019-03-21T14:12:45.661737Z",
     "start_time": "2019-03-21T14:12:45.609466Z"
    }
   },
   "outputs": [],
   "source": [
    "from pyspark.sql.functions import col,sum\n",
    "def missing_stats2(df):\n",
    "    num_rows = df.count()\n",
    "    missing = df.select(*((sum(col(c).isNull().cast(\"int\"))).alias(c)  for c in df.columns))\n",
    "    \n",
    "    \n",
    "    # use pandas to convert it to percent and recast it to spark dataframe\n",
    "    missing = missing.toPandas().T\n",
    "    missing = missing.reset_index()\n",
    "    missing.columns = [\"column\",\"missing\"]\n",
    "    missing[\"pct_missing\"]  = missing[\"missing\"] * 100 / num_rows\n",
    "    missing = missing.sort_values('pct_missing', ascending=False)\n",
    "    \n",
    "    ## convert back to spark data frame\n",
    "    missing = spark.createDataFrame(missing)\n",
    "    \n",
    "    return missing"
   ]
  },
  {
   "cell_type": "code",
   "execution_count": 14,
   "metadata": {
    "ExecuteTime": {
     "end_time": "2019-03-21T14:13:04.290849Z",
     "start_time": "2019-03-21T14:12:46.361329Z"
    }
   },
   "outputs": [
    {
     "data": {
      "text/html": [
       "<div>\n",
       "<style scoped>\n",
       "    .dataframe tbody tr th:only-of-type {\n",
       "        vertical-align: middle;\n",
       "    }\n",
       "\n",
       "    .dataframe tbody tr th {\n",
       "        vertical-align: top;\n",
       "    }\n",
       "\n",
       "    .dataframe thead th {\n",
       "        text-align: right;\n",
       "    }\n",
       "</style>\n",
       "<table border=\"1\" class=\"dataframe\">\n",
       "  <thead>\n",
       "    <tr style=\"text-align: right;\">\n",
       "      <th></th>\n",
       "      <th>column</th>\n",
       "      <th>missing</th>\n",
       "      <th>pct_missing</th>\n",
       "    </tr>\n",
       "  </thead>\n",
       "  <tbody>\n",
       "    <tr>\n",
       "      <th>0</th>\n",
       "      <td>HospitalDtTm</td>\n",
       "      <td>3734652</td>\n",
       "      <td>76.503135</td>\n",
       "    </tr>\n",
       "    <tr>\n",
       "      <th>1</th>\n",
       "      <td>TransportDtTm</td>\n",
       "      <td>3600973</td>\n",
       "      <td>73.764764</td>\n",
       "    </tr>\n",
       "    <tr>\n",
       "      <th>2</th>\n",
       "      <td>CallTypeGroup</td>\n",
       "      <td>2804597</td>\n",
       "      <td>57.451260</td>\n",
       "    </tr>\n",
       "    <tr>\n",
       "      <th>3</th>\n",
       "      <td>OnSceneDtTm</td>\n",
       "      <td>1118378</td>\n",
       "      <td>22.909611</td>\n",
       "    </tr>\n",
       "    <tr>\n",
       "      <th>4</th>\n",
       "      <td>ResponseDtTm</td>\n",
       "      <td>407699</td>\n",
       "      <td>8.351582</td>\n",
       "    </tr>\n",
       "    <tr>\n",
       "      <th>5</th>\n",
       "      <td>AvailableDtTm</td>\n",
       "      <td>76884</td>\n",
       "      <td>1.574944</td>\n",
       "    </tr>\n",
       "    <tr>\n",
       "      <th>6</th>\n",
       "      <td>OriginalPriority</td>\n",
       "      <td>25529</td>\n",
       "      <td>0.522953</td>\n",
       "    </tr>\n",
       "    <tr>\n",
       "      <th>7</th>\n",
       "      <td>ZipcodeofIncident</td>\n",
       "      <td>14062</td>\n",
       "      <td>0.288056</td>\n",
       "    </tr>\n",
       "    <tr>\n",
       "      <th>8</th>\n",
       "      <td>City</td>\n",
       "      <td>7384</td>\n",
       "      <td>0.151259</td>\n",
       "    </tr>\n",
       "    <tr>\n",
       "      <th>9</th>\n",
       "      <td>StationArea</td>\n",
       "      <td>2325</td>\n",
       "      <td>0.047627</td>\n",
       "    </tr>\n",
       "    <tr>\n",
       "      <th>10</th>\n",
       "      <td>Box</td>\n",
       "      <td>429</td>\n",
       "      <td>0.008788</td>\n",
       "    </tr>\n",
       "    <tr>\n",
       "      <th>11</th>\n",
       "      <td>Unitsequenceincalldispatch</td>\n",
       "      <td>63</td>\n",
       "      <td>0.001291</td>\n",
       "    </tr>\n",
       "    <tr>\n",
       "      <th>12</th>\n",
       "      <td>Priority</td>\n",
       "      <td>3</td>\n",
       "      <td>0.000061</td>\n",
       "    </tr>\n",
       "    <tr>\n",
       "      <th>13</th>\n",
       "      <td>NumberofAlarms</td>\n",
       "      <td>0</td>\n",
       "      <td>0.000000</td>\n",
       "    </tr>\n",
       "    <tr>\n",
       "      <th>14</th>\n",
       "      <td>UnitType</td>\n",
       "      <td>0</td>\n",
       "      <td>0.000000</td>\n",
       "    </tr>\n",
       "    <tr>\n",
       "      <th>15</th>\n",
       "      <td>FirePreventionDistrict</td>\n",
       "      <td>0</td>\n",
       "      <td>0.000000</td>\n",
       "    </tr>\n",
       "    <tr>\n",
       "      <th>16</th>\n",
       "      <td>SupervisorDistrict</td>\n",
       "      <td>0</td>\n",
       "      <td>0.000000</td>\n",
       "    </tr>\n",
       "    <tr>\n",
       "      <th>17</th>\n",
       "      <td>NeighborhoodDistrict</td>\n",
       "      <td>0</td>\n",
       "      <td>0.000000</td>\n",
       "    </tr>\n",
       "    <tr>\n",
       "      <th>18</th>\n",
       "      <td>Location</td>\n",
       "      <td>0</td>\n",
       "      <td>0.000000</td>\n",
       "    </tr>\n",
       "    <tr>\n",
       "      <th>19</th>\n",
       "      <td>ALSUnit</td>\n",
       "      <td>0</td>\n",
       "      <td>0.000000</td>\n",
       "    </tr>\n",
       "    <tr>\n",
       "      <th>20</th>\n",
       "      <td>FinalPriority</td>\n",
       "      <td>0</td>\n",
       "      <td>0.000000</td>\n",
       "    </tr>\n",
       "    <tr>\n",
       "      <th>21</th>\n",
       "      <td>CallNumber</td>\n",
       "      <td>0</td>\n",
       "      <td>0.000000</td>\n",
       "    </tr>\n",
       "    <tr>\n",
       "      <th>22</th>\n",
       "      <td>Battalion</td>\n",
       "      <td>0</td>\n",
       "      <td>0.000000</td>\n",
       "    </tr>\n",
       "    <tr>\n",
       "      <th>23</th>\n",
       "      <td>UnitID</td>\n",
       "      <td>0</td>\n",
       "      <td>0.000000</td>\n",
       "    </tr>\n",
       "    <tr>\n",
       "      <th>24</th>\n",
       "      <td>Address</td>\n",
       "      <td>0</td>\n",
       "      <td>0.000000</td>\n",
       "    </tr>\n",
       "    <tr>\n",
       "      <th>25</th>\n",
       "      <td>CallFinalDisposition</td>\n",
       "      <td>0</td>\n",
       "      <td>0.000000</td>\n",
       "    </tr>\n",
       "    <tr>\n",
       "      <th>26</th>\n",
       "      <td>DispatchDtTm</td>\n",
       "      <td>0</td>\n",
       "      <td>0.000000</td>\n",
       "    </tr>\n",
       "    <tr>\n",
       "      <th>27</th>\n",
       "      <td>EntryDtTm</td>\n",
       "      <td>0</td>\n",
       "      <td>0.000000</td>\n",
       "    </tr>\n",
       "    <tr>\n",
       "      <th>28</th>\n",
       "      <td>ReceivedDtTm</td>\n",
       "      <td>0</td>\n",
       "      <td>0.000000</td>\n",
       "    </tr>\n",
       "    <tr>\n",
       "      <th>29</th>\n",
       "      <td>WatchDate</td>\n",
       "      <td>0</td>\n",
       "      <td>0.000000</td>\n",
       "    </tr>\n",
       "    <tr>\n",
       "      <th>30</th>\n",
       "      <td>CallDate</td>\n",
       "      <td>0</td>\n",
       "      <td>0.000000</td>\n",
       "    </tr>\n",
       "    <tr>\n",
       "      <th>31</th>\n",
       "      <td>CallType</td>\n",
       "      <td>0</td>\n",
       "      <td>0.000000</td>\n",
       "    </tr>\n",
       "    <tr>\n",
       "      <th>32</th>\n",
       "      <td>IncidentNumber</td>\n",
       "      <td>0</td>\n",
       "      <td>0.000000</td>\n",
       "    </tr>\n",
       "    <tr>\n",
       "      <th>33</th>\n",
       "      <td>RowID</td>\n",
       "      <td>0</td>\n",
       "      <td>0.000000</td>\n",
       "    </tr>\n",
       "  </tbody>\n",
       "</table>\n",
       "</div>"
      ],
      "text/plain": [
       "                        column  missing  pct_missing\n",
       "0                 HospitalDtTm  3734652    76.503135\n",
       "1                TransportDtTm  3600973    73.764764\n",
       "2                CallTypeGroup  2804597    57.451260\n",
       "3                  OnSceneDtTm  1118378    22.909611\n",
       "4                 ResponseDtTm   407699     8.351582\n",
       "5                AvailableDtTm    76884     1.574944\n",
       "6             OriginalPriority    25529     0.522953\n",
       "7            ZipcodeofIncident    14062     0.288056\n",
       "8                         City     7384     0.151259\n",
       "9                  StationArea     2325     0.047627\n",
       "10                         Box      429     0.008788\n",
       "11  Unitsequenceincalldispatch       63     0.001291\n",
       "12                    Priority        3     0.000061\n",
       "13              NumberofAlarms        0     0.000000\n",
       "14                    UnitType        0     0.000000\n",
       "15      FirePreventionDistrict        0     0.000000\n",
       "16          SupervisorDistrict        0     0.000000\n",
       "17        NeighborhoodDistrict        0     0.000000\n",
       "18                    Location        0     0.000000\n",
       "19                     ALSUnit        0     0.000000\n",
       "20               FinalPriority        0     0.000000\n",
       "21                  CallNumber        0     0.000000\n",
       "22                   Battalion        0     0.000000\n",
       "23                      UnitID        0     0.000000\n",
       "24                     Address        0     0.000000\n",
       "25        CallFinalDisposition        0     0.000000\n",
       "26                DispatchDtTm        0     0.000000\n",
       "27                   EntryDtTm        0     0.000000\n",
       "28                ReceivedDtTm        0     0.000000\n",
       "29                   WatchDate        0     0.000000\n",
       "30                    CallDate        0     0.000000\n",
       "31                    CallType        0     0.000000\n",
       "32              IncidentNumber        0     0.000000\n",
       "33                       RowID        0     0.000000"
      ]
     },
     "execution_count": 14,
     "metadata": {},
     "output_type": "execute_result"
    }
   ],
   "source": [
    "missing_stats2(fireServiceCallsDF).toPandas()"
   ]
  },
  {
   "cell_type": "code",
   "execution_count": 15,
   "metadata": {
    "ExecuteTime": {
     "end_time": "2019-03-21T14:13:33.544316Z",
     "start_time": "2019-03-21T14:13:33.542275Z"
    }
   },
   "outputs": [],
   "source": [
    "# from ipywidgets import interact, interactive, fixed, interact_manual\n",
    "# import ipywidgets as widgets"
   ]
  },
  {
   "cell_type": "code",
   "execution_count": 16,
   "metadata": {
    "ExecuteTime": {
     "end_time": "2019-03-21T14:13:35.356511Z",
     "start_time": "2019-03-21T14:13:35.351727Z"
    }
   },
   "outputs": [],
   "source": [
    "# ## put more descriptions of how this was achieved-\n",
    "# ## spend time to understand how decorators work - Object Oriented Python , TDD\n",
    "# @interact\n",
    "# def show_articles_more_than(column=sorted(list(fireServiceCallsDF.columns))):\n",
    "#     return fireServiceCallsDF.select(column).limit(15).toPandas()"
   ]
  },
  {
   "cell_type": "markdown",
   "metadata": {},
   "source": [
    "## ![Spark Logo Tiny](http://curriculum-release.s3-website-us-west-2.amazonaws.com/wiki-book/general/logo_spark_tiny.png) **Analysis with PySpark DataFrames API**"
   ]
  },
  {
   "cell_type": "markdown",
   "metadata": {},
   "source": [
    "<font color='red'>\n",
    "    \n",
    "* Dataframes are immutable\n",
    "    \n",
    "* Every transformation returns a new dataframe\n",
    "\n",
    "* Actions executes all transformations\n",
    "\n",
    "</font>"
   ]
  },
  {
   "cell_type": "markdown",
   "metadata": {},
   "source": [
    "We will only use the following variables for our anlysis:\n",
    "\n",
    "* **ALS Unit** : Indicates if the unit had Advanced Life Support or not\n",
    "* **Battalion** : Emergency Response District (There are 9 Fire Emergency Response Districts)\n",
    "* **Call Type** : Reason for call\n",
    "* **City** : City of Incident\n",
    "* **Neighborhood District** : Neighborhood District associated with this address\n",
    "* **Station Area** : Fire Station First Response Area associated with the address of the incident\n",
    "* **Unit Type** : Type of Unit\n",
    "* **Fire Prevention District** : Bureau of Fire Prevention District associated with this address\n",
    "* **Number of Alarms** : Number of alarms associated with the incident. This is a number between 1 and 5\n",
    "* **Supervisor District** : Supervisor District associated with this address (note: these are the districts created in 2012)\n",
    "* **ReceivedDtTm** : Date and time of call is received at the 911 Dispatch Center.\n",
    "* **Location** : latitude and longitude of incident\n",
    "* **FinalPriority** : Final Reason (2 or 3)"
   ]
  },
  {
   "cell_type": "markdown",
   "metadata": {},
   "source": [
    "### Common Operations"
   ]
  },
  {
   "cell_type": "markdown",
   "metadata": {},
   "source": [
    "### Drop columns\n",
    "* Lots of missing values\n",
    "* Not needed"
   ]
  },
  {
   "cell_type": "code",
   "execution_count": 17,
   "metadata": {
    "ExecuteTime": {
     "end_time": "2019-03-21T14:14:16.730250Z",
     "start_time": "2019-03-21T14:14:16.710689Z"
    }
   },
   "outputs": [],
   "source": [
    "fireServiceCallsDF = fireServiceCallsDF.drop('Address',\n",
    "    'AvailableDtTm',\n",
    "    'Box',\n",
    "    'CallNumber',\n",
    "    'CallTypeGroup',\n",
    "    'HospitalDtTm',\n",
    "    'IncidentNumber',\n",
    "    'OnSceneDtTm',\n",
    "    'OriginalPriority',\n",
    "    'Priority',\n",
    "    'ResponseDtTm',\n",
    "    'RowID',\n",
    "    'TransportDtTm',\n",
    "    'UnitID',\n",
    "    'Unitsequenceincalldispatch',\n",
    "    'ZipcodeofIncident',\n",
    ")"
   ]
  },
  {
   "cell_type": "markdown",
   "metadata": {},
   "source": [
    "### Frequency and Count"
   ]
  },
  {
   "cell_type": "markdown",
   "metadata": {},
   "source": [
    "#### Lets take a look at target Variable FinalPriorty for invalid entries\n",
    "\n",
    "We know the target variable is supposed to have two values. \n",
    "\n",
    "2 for Non-Emergency or 3 for Emergency"
   ]
  },
  {
   "cell_type": "code",
   "execution_count": 18,
   "metadata": {
    "ExecuteTime": {
     "end_time": "2019-03-21T14:16:29.365704Z",
     "start_time": "2019-03-21T14:16:24.275277Z"
    }
   },
   "outputs": [
    {
     "name": "stdout",
     "output_type": "stream",
     "text": [
      "+-------------+-------+\n",
      "|FinalPriority|  count|\n",
      "+-------------+-------+\n",
      "|            3|3865729|\n",
      "|            2|1015969|\n",
      "+-------------+-------+\n",
      "\n"
     ]
    }
   ],
   "source": [
    "fireServiceCallsDF.select('FinalPriority').groupBy('FinalPriority').count().show()"
   ]
  },
  {
   "cell_type": "markdown",
   "metadata": {},
   "source": [
    "### Understanding DAG"
   ]
  },
  {
   "cell_type": "markdown",
   "metadata": {},
   "source": [
    "**(Q) Why were calls made to the Fire Department?**"
   ]
  },
  {
   "cell_type": "markdown",
   "metadata": {},
   "source": [
    "Transformations contribute to a query plan,  but  nothing is executed until an action is called. Return type is a dataframe"
   ]
  },
  {
   "cell_type": "code",
   "execution_count": 20,
   "metadata": {
    "ExecuteTime": {
     "end_time": "2019-03-21T14:17:49.526353Z",
     "start_time": "2019-03-21T14:17:49.506138Z"
    }
   },
   "outputs": [
    {
     "data": {
      "text/plain": [
       "DataFrame[CallType: string]"
      ]
     },
     "execution_count": 20,
     "metadata": {},
     "output_type": "execute_result"
    }
   ],
   "source": [
    "fireServiceCallsDF.select(\"CallType\")"
   ]
  },
  {
   "cell_type": "code",
   "execution_count": 26,
   "metadata": {
    "ExecuteTime": {
     "end_time": "2019-03-21T14:19:13.874408Z",
     "start_time": "2019-03-21T14:19:13.844930Z"
    }
   },
   "outputs": [
    {
     "name": "stdout",
     "output_type": "stream",
     "text": [
      "== Physical Plan ==\n",
      "*(1) FileScan csv [CallType#120] Batched: false, Format: CSV, Location: InMemoryFileIndex[file:/home/sahil/Documents/code/spark_workshop/data/fire_dept_calls.csv], PartitionFilters: [], PushedFilters: [], ReadSchema: struct<CallType:string>\n"
     ]
    }
   ],
   "source": [
    "fireServiceCallsDF.select(\"CallType\").explain()"
   ]
  },
  {
   "cell_type": "markdown",
   "metadata": {},
   "source": [
    "![dag0](./images/dag0.png)"
   ]
  },
  {
   "cell_type": "code",
   "execution_count": 21,
   "metadata": {
    "ExecuteTime": {
     "end_time": "2019-03-21T14:17:50.419420Z",
     "start_time": "2019-03-21T14:17:50.403636Z"
    }
   },
   "outputs": [
    {
     "data": {
      "text/plain": [
       "DataFrame[CallType: string]"
      ]
     },
     "execution_count": 21,
     "metadata": {},
     "output_type": "execute_result"
    }
   ],
   "source": [
    "fireServiceCallsDF.select('CallType').distinct()"
   ]
  },
  {
   "cell_type": "code",
   "execution_count": 27,
   "metadata": {
    "ExecuteTime": {
     "end_time": "2019-03-21T14:19:32.622317Z",
     "start_time": "2019-03-21T14:19:32.582177Z"
    }
   },
   "outputs": [
    {
     "name": "stdout",
     "output_type": "stream",
     "text": [
      "== Physical Plan ==\n",
      "*(2) HashAggregate(keys=[CallType#120], functions=[])\n",
      "+- Exchange hashpartitioning(CallType#120, 200)\n",
      "   +- *(1) HashAggregate(keys=[CallType#120], functions=[])\n",
      "      +- *(1) FileScan csv [CallType#120] Batched: false, Format: CSV, Location: InMemoryFileIndex[file:/home/sahil/Documents/code/spark_workshop/data/fire_dept_calls.csv], PartitionFilters: [], PushedFilters: [], ReadSchema: struct<CallType:string>\n"
     ]
    }
   ],
   "source": [
    "fireServiceCallsDF.select('CallType').distinct().explain()"
   ]
  },
  {
   "cell_type": "markdown",
   "metadata": {},
   "source": [
    "![Dag1](./images/dag1.png)"
   ]
  },
  {
   "cell_type": "code",
   "execution_count": 36,
   "metadata": {
    "ExecuteTime": {
     "end_time": "2019-03-21T14:24:58.850443Z",
     "start_time": "2019-03-21T14:24:54.426650Z"
    }
   },
   "outputs": [
    {
     "name": "stdout",
     "output_type": "stream",
     "text": [
      "+-----------------------------------+\n",
      "|CallType                           |\n",
      "+-----------------------------------+\n",
      "|Elevator / Escalator Rescue        |\n",
      "|Marine Fire                        |\n",
      "|Aircraft Emergency                 |\n",
      "|Confined Space / Structure Collapse|\n",
      "|Administrative                     |\n",
      "+-----------------------------------+\n",
      "only showing top 5 rows\n",
      "\n"
     ]
    }
   ],
   "source": [
    "# EXECUTE graph\n",
    "fireServiceCallsDF.select('CallType').distinct().show(5, False)"
   ]
  },
  {
   "cell_type": "markdown",
   "metadata": {
    "ExecuteTime": {
     "end_time": "2019-03-21T14:23:57.563878Z",
     "start_time": "2019-03-21T14:23:57.560229Z"
    }
   },
   "source": [
    "Go to the spark UI and go to SQL tab. Check out the execution plan."
   ]
  },
  {
   "cell_type": "markdown",
   "metadata": {},
   "source": [
    "![recepie](./images/recepie.png)"
   ]
  },
  {
   "cell_type": "code",
   "execution_count": 32,
   "metadata": {
    "ExecuteTime": {
     "end_time": "2019-03-21T14:24:27.671376Z",
     "start_time": "2019-03-21T14:24:27.648000Z"
    }
   },
   "outputs": [],
   "source": [
    "ans = fireServiceCallsDF.select('CallType').groupBy('CallType').count().orderBy('count', ascending=False)"
   ]
  },
  {
   "cell_type": "code",
   "execution_count": 33,
   "metadata": {
    "ExecuteTime": {
     "end_time": "2019-03-21T14:24:28.092287Z",
     "start_time": "2019-03-21T14:24:28.086639Z"
    }
   },
   "outputs": [
    {
     "data": {
      "text/plain": [
       "DataFrame[CallType: string, count: bigint]"
      ]
     },
     "execution_count": 33,
     "metadata": {},
     "output_type": "execute_result"
    }
   ],
   "source": [
    "ans"
   ]
  },
  {
   "cell_type": "markdown",
   "metadata": {},
   "source": [
    "![dag2](./images/dag3.png)"
   ]
  },
  {
   "cell_type": "code",
   "execution_count": 34,
   "metadata": {
    "ExecuteTime": {
     "end_time": "2019-03-21T14:24:34.030403Z",
     "start_time": "2019-03-21T14:24:29.085378Z"
    }
   },
   "outputs": [
    {
     "name": "stdout",
     "output_type": "stream",
     "text": [
      "+--------------------------------------------+-------+\n",
      "|CallType                                    |count  |\n",
      "+--------------------------------------------+-------+\n",
      "|Medical Incident                            |3174213|\n",
      "|Structure Fire                              |633409 |\n",
      "|Alarms                                      |524545 |\n",
      "|Traffic Collision                           |200232 |\n",
      "|Other                                       |77915  |\n",
      "|Citizen Assist / Service Call               |73347  |\n",
      "|Outside Fire                                |57858  |\n",
      "|Vehicle Fire                                |23373  |\n",
      "|Water Rescue                                |23334  |\n",
      "|Gas Leak (Natural and LP Gases)             |18766  |\n",
      "|Electrical Hazard                           |13933  |\n",
      "|Elevator / Escalator Rescue                 |12890  |\n",
      "|Odor (Strange / Unknown)                    |12518  |\n",
      "|Smoke Investigation (Outside)               |10837  |\n",
      "|Fuel Spill                                  |5646   |\n",
      "|HazMat                                      |3944   |\n",
      "|Industrial Accidents                        |2859   |\n",
      "|Explosion                                   |2591   |\n",
      "|Aircraft Emergency                          |1511   |\n",
      "|Assist Police                               |1343   |\n",
      "|Train / Rail Incident                       |1310   |\n",
      "|High Angle Rescue                           |1172   |\n",
      "|Watercraft in Distress                      |927    |\n",
      "|Extrication / Entrapped (Machinery, Vehicle)|714    |\n",
      "|Confined Space / Structure Collapse         |522    |\n",
      "|Oil Spill                                   |516    |\n",
      "|Mutual Aid / Assist Outside Agency          |471    |\n",
      "|Marine Fire                                 |371    |\n",
      "|Suspicious Package                          |328    |\n",
      "|Administrative                              |271    |\n",
      "|Train / Rail Fire                           |23     |\n",
      "|Lightning Strike (Investigation)            |9      |\n",
      "+--------------------------------------------+-------+\n",
      "\n"
     ]
    }
   ],
   "source": [
    "## EXECUTE\n",
    "ans.show(50, False)"
   ]
  },
  {
   "cell_type": "markdown",
   "metadata": {},
   "source": [
    "## Basic Date-Time Maipulations"
   ]
  },
  {
   "cell_type": "markdown",
   "metadata": {},
   "source": [
    "Notice that the date or time columns are currently being interpreted as strings, rather than date or time objects:"
   ]
  },
  {
   "cell_type": "markdown",
   "metadata": {},
   "source": [
    "**Q-3) How many years of Fire Service Calls is in the data file?**"
   ]
  },
  {
   "cell_type": "code",
   "execution_count": 37,
   "metadata": {
    "ExecuteTime": {
     "end_time": "2019-03-21T14:25:55.515465Z",
     "start_time": "2019-03-21T14:25:55.426515Z"
    }
   },
   "outputs": [
    {
     "name": "stdout",
     "output_type": "stream",
     "text": [
      "+----------+----------------------+\n",
      "|CallDate  |ReceivedDtTm          |\n",
      "+----------+----------------------+\n",
      "|04/12/2000|04/12/2000 09:00:29 PM|\n",
      "|04/12/2000|04/12/2000 09:09:02 PM|\n",
      "|04/12/2000|04/12/2000 09:09:44 PM|\n",
      "|04/12/2000|04/12/2000 09:13:47 PM|\n",
      "|04/12/2000|04/12/2000 09:14:43 PM|\n",
      "+----------+----------------------+\n",
      "only showing top 5 rows\n",
      "\n"
     ]
    }
   ],
   "source": [
    "fireServiceCallsDF.select('CallDate', 'ReceivedDtTm').show(5, False)"
   ]
  },
  {
   "cell_type": "markdown",
   "metadata": {},
   "source": [
    "## Patterns for date and time"
   ]
  },
  {
   "cell_type": "code",
   "execution_count": 137,
   "metadata": {
    "ExecuteTime": {
     "end_time": "2019-03-21T15:36:40.139298Z",
     "start_time": "2019-03-21T15:36:40.129546Z"
    }
   },
   "outputs": [],
   "source": [
    "from_pattern1 = 'MM/dd/yyyy'  \n",
    "to_pattern1 = 'yyyy-MM-dd'\n",
    "\n",
    "from_pattern2 = 'MM/dd/yyyy hh:mm:ss aa'\n",
    "to_pattern2 = 'MM/dd/yyyy hh:mm:ss aa'"
   ]
  },
  {
   "cell_type": "code",
   "execution_count": 138,
   "metadata": {
    "ExecuteTime": {
     "end_time": "2019-03-21T15:36:41.419665Z",
     "start_time": "2019-03-21T15:36:41.393879Z"
    }
   },
   "outputs": [],
   "source": [
    "from pyspark.sql.functions import to_timestamp, to_date, unix_timestamp\n",
    "\n",
    "fireServiceCallsDF = fireServiceCallsDF.withColumn('CallDateTS', to_date('CallDate', format=from_pattern1))\\\n",
    "                                       .withColumn('ReceivedTS', to_timestamp('ReceivedDtTm', format=from_pattern2))"
   ]
  },
  {
   "cell_type": "markdown",
   "metadata": {},
   "source": [
    "Notice that the formatting of the timestamps is now different:"
   ]
  },
  {
   "cell_type": "code",
   "execution_count": 139,
   "metadata": {
    "ExecuteTime": {
     "end_time": "2019-03-21T15:36:51.813181Z",
     "start_time": "2019-03-21T15:36:46.617470Z"
    }
   },
   "outputs": [
    {
     "name": "stdout",
     "output_type": "stream",
     "text": [
      "+----------+----------+-------------------+----------------------+\n",
      "|CallDateTS|CallDate  |ReceivedTS         |ReceivedDtTm          |\n",
      "+----------+----------+-------------------+----------------------+\n",
      "|2001-10-16|10/16/2001|2001-10-16 08:12:37|10/16/2001 08:12:37 AM|\n",
      "|2001-08-17|08/17/2001|2001-08-17 00:48:31|08/17/2001 12:48:31 AM|\n",
      "|2000-04-19|04/19/2000|2000-04-19 11:38:05|04/19/2000 11:38:05 AM|\n",
      "|2001-11-30|11/30/2001|2001-11-30 14:23:41|11/30/2001 02:23:41 PM|\n",
      "|2000-11-12|11/12/2000|2000-11-12 14:05:37|11/12/2000 02:05:37 PM|\n",
      "+----------+----------+-------------------+----------------------+\n",
      "only showing top 5 rows\n",
      "\n"
     ]
    }
   ],
   "source": [
    "fireServiceCallsDF.select('CallDateTS', 'CallDate', 'ReceivedTS', \"ReceivedDtTm\").show(5, False)"
   ]
  },
  {
   "cell_type": "markdown",
   "metadata": {},
   "source": [
    "Check that the types have changed"
   ]
  },
  {
   "cell_type": "code",
   "execution_count": 41,
   "metadata": {
    "ExecuteTime": {
     "end_time": "2019-03-21T14:27:04.897763Z",
     "start_time": "2019-03-21T14:27:04.891643Z"
    }
   },
   "outputs": [
    {
     "name": "stdout",
     "output_type": "stream",
     "text": [
      "root\n",
      " |-- CallType: string (nullable = true)\n",
      " |-- CallDate: string (nullable = true)\n",
      " |-- WatchDate: string (nullable = true)\n",
      " |-- ReceivedDtTm: string (nullable = true)\n",
      " |-- EntryDtTm: string (nullable = true)\n",
      " |-- DispatchDtTm: string (nullable = true)\n",
      " |-- CallFinalDisposition: string (nullable = true)\n",
      " |-- City: string (nullable = true)\n",
      " |-- Battalion: string (nullable = true)\n",
      " |-- StationArea: string (nullable = true)\n",
      " |-- FinalPriority: integer (nullable = true)\n",
      " |-- ALSUnit: boolean (nullable = true)\n",
      " |-- NumberofAlarms: integer (nullable = true)\n",
      " |-- UnitType: string (nullable = true)\n",
      " |-- FirePreventionDistrict: string (nullable = true)\n",
      " |-- SupervisorDistrict: string (nullable = true)\n",
      " |-- NeighborhoodDistrict: string (nullable = true)\n",
      " |-- Location: string (nullable = true)\n",
      " |-- CallDateTS: date (nullable = true)\n",
      " |-- ReceivedTS: timestamp (nullable = true)\n",
      "\n"
     ]
    }
   ],
   "source": [
    "fireServiceCallsDF.printSchema()"
   ]
  },
  {
   "cell_type": "markdown",
   "metadata": {},
   "source": [
    "Now we can start asking more time related questions"
   ]
  },
  {
   "cell_type": "markdown",
   "metadata": {},
   "source": [
    "Finally calculate how many distinct years of data is in the CSV file:"
   ]
  },
  {
   "cell_type": "code",
   "execution_count": 42,
   "metadata": {
    "ExecuteTime": {
     "end_time": "2019-03-21T14:27:15.843775Z",
     "start_time": "2019-03-21T14:27:15.840946Z"
    }
   },
   "outputs": [],
   "source": [
    "from pyspark.sql.functions import year, weekofyear, dayofmonth, dayofweek, dayofyear, month"
   ]
  },
  {
   "cell_type": "code",
   "execution_count": 43,
   "metadata": {
    "ExecuteTime": {
     "end_time": "2019-03-21T14:27:25.857865Z",
     "start_time": "2019-03-21T14:27:19.887457Z"
    }
   },
   "outputs": [
    {
     "name": "stdout",
     "output_type": "stream",
     "text": [
      "+----------------+\n",
      "|year(CallDateTS)|\n",
      "+----------------+\n",
      "|            2000|\n",
      "|            2001|\n",
      "|            2002|\n",
      "|            2003|\n",
      "|            2004|\n",
      "|            2005|\n",
      "|            2006|\n",
      "|            2007|\n",
      "|            2008|\n",
      "|            2009|\n",
      "|            2010|\n",
      "|            2011|\n",
      "|            2012|\n",
      "|            2013|\n",
      "|            2014|\n",
      "|            2015|\n",
      "|            2016|\n",
      "|            2017|\n",
      "|            2018|\n",
      "|            2019|\n",
      "+----------------+\n",
      "\n"
     ]
    }
   ],
   "source": [
    "fireServiceCallsDF.select(year('CallDateTS')).distinct().orderBy('year(CallDateTS)').show()"
   ]
  },
  {
   "cell_type": "markdown",
   "metadata": {},
   "source": [
    "### SQL Query"
   ]
  },
  {
   "cell_type": "markdown",
   "metadata": {},
   "source": [
    "You can get the same results as above if you are comfortable with SQL"
   ]
  },
  {
   "cell_type": "code",
   "execution_count": 44,
   "metadata": {
    "ExecuteTime": {
     "end_time": "2019-03-21T14:28:49.501984Z",
     "start_time": "2019-03-21T14:28:49.472164Z"
    }
   },
   "outputs": [],
   "source": [
    "fireServiceCallsDF.createOrReplaceTempView(\"fireservice_VIEW\")"
   ]
  },
  {
   "cell_type": "code",
   "execution_count": 46,
   "metadata": {
    "ExecuteTime": {
     "end_time": "2019-03-21T14:29:30.448869Z",
     "start_time": "2019-03-21T14:29:24.124020Z"
    }
   },
   "outputs": [
    {
     "name": "stdout",
     "output_type": "stream",
     "text": [
      "+----+\n",
      "|YEAR|\n",
      "+----+\n",
      "|2000|\n",
      "|2001|\n",
      "|2002|\n",
      "|2003|\n",
      "|2004|\n",
      "|2005|\n",
      "|2006|\n",
      "|2007|\n",
      "|2008|\n",
      "|2009|\n",
      "|2010|\n",
      "|2011|\n",
      "|2012|\n",
      "|2013|\n",
      "|2014|\n",
      "|2015|\n",
      "|2016|\n",
      "|2017|\n",
      "|2018|\n",
      "|2019|\n",
      "+----+\n",
      "\n"
     ]
    }
   ],
   "source": [
    "query = \"Select distinct(year(CallDateTS)) as YEAR \\\n",
    "         from fireservice_VIEW \\\n",
    "         group by YEAR \\\n",
    "         order by YEAR\"\n",
    "\n",
    "ans = spark.sql(query)\n",
    "ans.show() # this executes the SQL query"
   ]
  },
  {
   "cell_type": "markdown",
   "metadata": {},
   "source": [
    "#### Q- How many calls per year"
   ]
  },
  {
   "cell_type": "code",
   "execution_count": 47,
   "metadata": {
    "ExecuteTime": {
     "end_time": "2019-03-21T14:29:36.749154Z",
     "start_time": "2019-03-21T14:29:30.450765Z"
    }
   },
   "outputs": [
    {
     "name": "stdout",
     "output_type": "stream",
     "text": [
      "+----+------+\n",
      "|YEAR|  Freq|\n",
      "+----+------+\n",
      "|2000|158154|\n",
      "|2001|220328|\n",
      "|2002|225951|\n",
      "|2003|240457|\n",
      "|2004|235353|\n",
      "|2005|232919|\n",
      "|2006|235440|\n",
      "|2007|235856|\n",
      "|2008|249690|\n",
      "|2009|244633|\n",
      "|2010|256174|\n",
      "|2011|268689|\n",
      "|2012|265596|\n",
      "|2013|273097|\n",
      "|2014|280905|\n",
      "|2015|296244|\n",
      "|2016|303967|\n",
      "|2017|312471|\n",
      "|2018|310700|\n",
      "|2019| 35074|\n",
      "+----+------+\n",
      "\n"
     ]
    }
   ],
   "source": [
    "query = \"select year(CallDateTS) as YEAR, count(year(CallDateTS)) as Freq \\\n",
    "         from fireservice_VIEW \\\n",
    "         group by YEAR \\\n",
    "         order by YEAR\"\n",
    "ans = spark.sql(query)\n",
    "ans.show()"
   ]
  },
  {
   "cell_type": "markdown",
   "metadata": {},
   "source": [
    "#### Q - At what time are most calls received?"
   ]
  },
  {
   "cell_type": "code",
   "execution_count": 48,
   "metadata": {
    "ExecuteTime": {
     "end_time": "2019-03-21T14:31:05.364309Z",
     "start_time": "2019-03-21T14:30:56.615535Z"
    }
   },
   "outputs": [
    {
     "name": "stdout",
     "output_type": "stream",
     "text": [
      "+----+------+\n",
      "|HOUR|  Freq|\n",
      "+----+------+\n",
      "|null|     0|\n",
      "|   0|154573|\n",
      "|   1|145429|\n",
      "|   2|136290|\n",
      "|   3|106449|\n",
      "|   4| 89700|\n",
      "|   5| 89441|\n",
      "|   6|108227|\n",
      "|   7|144710|\n",
      "|   8|190119|\n",
      "|   9|228676|\n",
      "|  10|252281|\n",
      "|  11|264753|\n",
      "|  12|265444|\n",
      "|  13|271516|\n",
      "|  14|274867|\n",
      "|  15|273598|\n",
      "|  16|270710|\n",
      "|  17|271785|\n",
      "|  18|265380|\n",
      "|  19|252048|\n",
      "|  20|236496|\n",
      "|  21|217480|\n",
      "|  22|197332|\n",
      "|  23|173880|\n",
      "+----+------+\n",
      "\n"
     ]
    }
   ],
   "source": [
    "query = \"select hour(ReceivedTS) as HOUR, count(hour(ReceivedTS)) as Freq \\\n",
    "         from fireservice_VIEW \\\n",
    "         group by HOUR \\\n",
    "         order by HOUR\"\n",
    "ans = spark.sql(query)\n",
    "ans.show(25)"
   ]
  },
  {
   "cell_type": "code",
   "execution_count": 54,
   "metadata": {
    "ExecuteTime": {
     "end_time": "2019-03-21T14:32:20.935773Z",
     "start_time": "2019-03-21T14:32:20.602116Z"
    }
   },
   "outputs": [
    {
     "data": {
      "text/plain": [
       "<matplotlib.axes._subplots.AxesSubplot at 0x7f17862e7eb8>"
      ]
     },
     "execution_count": 54,
     "metadata": {},
     "output_type": "execute_result"
    },
    {
     "data": {
      "image/png": "[encoded data removed]",
      "text/plain": [
       "<matplotlib.figure.Figure at 0x7f1786296630>"
      ]
     },
     "metadata": {},
     "output_type": "display_data"
    }
   ],
   "source": [
    "plt.figure(figsize=(25,7))\n",
    "sns.barplot(data=ans.toPandas(), x='HOUR', y='Freq')"
   ]
  },
  {
   "cell_type": "markdown",
   "metadata": {},
   "source": [
    "## Categorical Variables"
   ]
  },
  {
   "cell_type": "markdown",
   "metadata": {},
   "source": [
    "For any machine learning applications, we will convert the strings to integers\n",
    "\n",
    "Now, we convert the Call Types from Strings to Numbers"
   ]
  },
  {
   "cell_type": "code",
   "execution_count": 56,
   "metadata": {
    "ExecuteTime": {
     "end_time": "2019-03-21T14:34:21.748325Z",
     "start_time": "2019-03-21T14:34:21.658692Z"
    }
   },
   "outputs": [
    {
     "name": "stdout",
     "output_type": "stream",
     "text": [
      "+-----------------------------+\n",
      "|CallType                     |\n",
      "+-----------------------------+\n",
      "|Medical Incident             |\n",
      "|Medical Incident             |\n",
      "|Medical Incident             |\n",
      "|Alarms                       |\n",
      "|Medical Incident             |\n",
      "|Citizen Assist / Service Call|\n",
      "|Electrical Hazard            |\n",
      "|Odor (Strange / Unknown)     |\n",
      "|Medical Incident             |\n",
      "|Medical Incident             |\n",
      "|Alarms                       |\n",
      "|Medical Incident             |\n",
      "|Medical Incident             |\n",
      "|Medical Incident             |\n",
      "|Alarms                       |\n",
      "+-----------------------------+\n",
      "\n"
     ]
    }
   ],
   "source": [
    "fireServiceCallsDF.select('CallType').limit(15).show(15, truncate=False)"
   ]
  },
  {
   "cell_type": "markdown",
   "metadata": {
    "ExecuteTime": {
     "end_time": "2019-03-21T14:35:04.955564Z",
     "start_time": "2019-03-21T14:35:04.952955Z"
    }
   },
   "source": [
    "### String Indexing"
   ]
  },
  {
   "cell_type": "code",
   "execution_count": 58,
   "metadata": {
    "ExecuteTime": {
     "end_time": "2019-03-21T14:36:18.761507Z",
     "start_time": "2019-03-21T14:36:13.309094Z"
    }
   },
   "outputs": [],
   "source": [
    "from pyspark.ml.feature import OneHotEncoder, StringIndexer\n",
    "\n",
    "indexer = StringIndexer(inputCol=\"CallType\", \n",
    "                        outputCol=\"CallType_Index\", \n",
    "                        handleInvalid=\"keep\",        # last index will be for invalid values not encountered before\n",
    "                        stringOrderType='alphabetAsc')\n",
    "\n",
    "new_df = indexer.fit(fireServiceCallsDF).transform(fireServiceCallsDF)"
   ]
  },
  {
   "cell_type": "code",
   "execution_count": 59,
   "metadata": {
    "ExecuteTime": {
     "end_time": "2019-03-21T14:36:34.797166Z",
     "start_time": "2019-03-21T14:36:21.536370Z"
    }
   },
   "outputs": [
    {
     "name": "stdout",
     "output_type": "stream",
     "text": [
      "+--------------------------------------------+--------------+\n",
      "|CallType                                    |CallType_Index|\n",
      "+--------------------------------------------+--------------+\n",
      "|Administrative                              |0.0           |\n",
      "|Aircraft Emergency                          |1.0           |\n",
      "|Alarms                                      |2.0           |\n",
      "|Assist Police                               |3.0           |\n",
      "|Citizen Assist / Service Call               |4.0           |\n",
      "|Confined Space / Structure Collapse         |5.0           |\n",
      "|Electrical Hazard                           |6.0           |\n",
      "|Elevator / Escalator Rescue                 |7.0           |\n",
      "|Explosion                                   |8.0           |\n",
      "|Extrication / Entrapped (Machinery, Vehicle)|9.0           |\n",
      "|Fuel Spill                                  |10.0          |\n",
      "|Gas Leak (Natural and LP Gases)             |11.0          |\n",
      "|HazMat                                      |12.0          |\n",
      "|High Angle Rescue                           |13.0          |\n",
      "|Industrial Accidents                        |14.0          |\n",
      "|Lightning Strike (Investigation)            |15.0          |\n",
      "|Marine Fire                                 |16.0          |\n",
      "|Medical Incident                            |17.0          |\n",
      "|Mutual Aid / Assist Outside Agency          |18.0          |\n",
      "|Odor (Strange / Unknown)                    |19.0          |\n",
      "+--------------------------------------------+--------------+\n",
      "only showing top 20 rows\n",
      "\n"
     ]
    }
   ],
   "source": [
    "new_df.select(\"CallType\", \"CallType_Index\").distinct().orderBy('CallType_Index').show(truncate=False)"
   ]
  },
  {
   "cell_type": "markdown",
   "metadata": {},
   "source": [
    "### One-Hot Encoding"
   ]
  },
  {
   "cell_type": "code",
   "execution_count": 60,
   "metadata": {
    "ExecuteTime": {
     "end_time": "2019-03-21T14:37:35.730322Z",
     "start_time": "2019-03-21T14:37:35.643974Z"
    }
   },
   "outputs": [],
   "source": [
    "encoder = OneHotEncoder(inputCol='CallType_Index', \n",
    "                        outputCol='CallType_Vec')\n",
    "final_df = encoder.transform(new_df)"
   ]
  },
  {
   "cell_type": "code",
   "execution_count": 75,
   "metadata": {
    "ExecuteTime": {
     "end_time": "2019-03-21T14:48:32.052732Z",
     "start_time": "2019-03-21T14:48:32.046717Z"
    }
   },
   "outputs": [
    {
     "data": {
      "text/plain": [
       "DataFrame[CallType: string, CallDate: string, WatchDate: string, ReceivedDtTm: string, EntryDtTm: string, DispatchDtTm: string, CallFinalDisposition: string, City: string, Battalion: string, StationArea: string, FinalPriority: int, ALSUnit: boolean, NumberofAlarms: int, UnitType: string, FirePreventionDistrict: string, SupervisorDistrict: string, NeighborhoodDistrict: string, Location: string, CallDateTS: date, ReceivedTS: timestamp, CallType_Index: double, CallType_Vec: vector]"
      ]
     },
     "execution_count": 75,
     "metadata": {},
     "output_type": "execute_result"
    }
   ],
   "source": [
    "final_df"
   ]
  },
  {
   "cell_type": "markdown",
   "metadata": {},
   "source": [
    "The CallType_Vec is a sparse vector of length 32, it has a value of 1 at index 17 of that vector"
   ]
  },
  {
   "cell_type": "code",
   "execution_count": 63,
   "metadata": {
    "ExecuteTime": {
     "end_time": "2019-03-21T14:38:44.565880Z",
     "start_time": "2019-03-21T14:38:31.223590Z"
    }
   },
   "outputs": [
    {
     "name": "stdout",
     "output_type": "stream",
     "text": [
      "+--------------------------------------------+--------------+---------------+\n",
      "|CallType                                    |CallType_Index|CallType_Vec   |\n",
      "+--------------------------------------------+--------------+---------------+\n",
      "|Administrative                              |0.0           |(32,[0],[1.0]) |\n",
      "|Aircraft Emergency                          |1.0           |(32,[1],[1.0]) |\n",
      "|Alarms                                      |2.0           |(32,[2],[1.0]) |\n",
      "|Assist Police                               |3.0           |(32,[3],[1.0]) |\n",
      "|Citizen Assist / Service Call               |4.0           |(32,[4],[1.0]) |\n",
      "|Confined Space / Structure Collapse         |5.0           |(32,[5],[1.0]) |\n",
      "|Electrical Hazard                           |6.0           |(32,[6],[1.0]) |\n",
      "|Elevator / Escalator Rescue                 |7.0           |(32,[7],[1.0]) |\n",
      "|Explosion                                   |8.0           |(32,[8],[1.0]) |\n",
      "|Extrication / Entrapped (Machinery, Vehicle)|9.0           |(32,[9],[1.0]) |\n",
      "|Fuel Spill                                  |10.0          |(32,[10],[1.0])|\n",
      "|Gas Leak (Natural and LP Gases)             |11.0          |(32,[11],[1.0])|\n",
      "|HazMat                                      |12.0          |(32,[12],[1.0])|\n",
      "|High Angle Rescue                           |13.0          |(32,[13],[1.0])|\n",
      "|Industrial Accidents                        |14.0          |(32,[14],[1.0])|\n",
      "|Lightning Strike (Investigation)            |15.0          |(32,[15],[1.0])|\n",
      "|Marine Fire                                 |16.0          |(32,[16],[1.0])|\n",
      "|Medical Incident                            |17.0          |(32,[17],[1.0])|\n",
      "|Mutual Aid / Assist Outside Agency          |18.0          |(32,[18],[1.0])|\n",
      "|Odor (Strange / Unknown)                    |19.0          |(32,[19],[1.0])|\n",
      "+--------------------------------------------+--------------+---------------+\n",
      "only showing top 20 rows\n",
      "\n"
     ]
    }
   ],
   "source": [
    "final_df.select(\"CallType\", \"CallType_Index\", \"CallType_Vec\").distinct().orderBy('CallType_Index').show(truncate=False)"
   ]
  },
  {
   "cell_type": "markdown",
   "metadata": {},
   "source": [
    "### Applying StringIndexer and One-Hot Encoder to all categorical Variables"
   ]
  },
  {
   "cell_type": "code",
   "execution_count": 80,
   "metadata": {
    "ExecuteTime": {
     "end_time": "2019-03-21T14:49:37.887112Z",
     "start_time": "2019-03-21T14:49:37.878027Z"
    }
   },
   "outputs": [],
   "source": [
    "categorical_variables = [\n",
    "    \"CallType\",\n",
    "    \"City\",\n",
    "    \"NeighborhoodDistrict\",\n",
    "]"
   ]
  },
  {
   "cell_type": "code",
   "execution_count": 81,
   "metadata": {
    "ExecuteTime": {
     "end_time": "2019-03-21T14:49:38.624892Z",
     "start_time": "2019-03-21T14:49:38.581646Z"
    }
   },
   "outputs": [],
   "source": [
    "stages = []\n",
    "for var in categorical_variables:\n",
    "    indexer = StringIndexer(inputCol=var,\n",
    "                            outputCol=var + \"_Index\",\n",
    "                            handleInvalid=\"keep\",\n",
    "                            stringOrderType=\"alphabetAsc\",\n",
    "                            )\n",
    "    encoder = OneHotEncoder(inputCol=indexer.getOutputCol(), \n",
    "                            outputCol=var + \"_classVec\")\n",
    "    stages += [indexer, encoder]\n"
   ]
  },
  {
   "cell_type": "code",
   "execution_count": 82,
   "metadata": {
    "ExecuteTime": {
     "end_time": "2019-03-21T14:49:39.007396Z",
     "start_time": "2019-03-21T14:49:39.002429Z"
    }
   },
   "outputs": [
    {
     "data": {
      "text/plain": [
       "[StringIndexer_74efb36f15bb,\n",
       " OneHotEncoder_a430e046a265,\n",
       " StringIndexer_077eb3f96833,\n",
       " OneHotEncoder_b45a0b37a180,\n",
       " StringIndexer_7ea1d1ea5f0c,\n",
       " OneHotEncoder_4a685b60a894]"
      ]
     },
     "execution_count": 82,
     "metadata": {},
     "output_type": "execute_result"
    }
   ],
   "source": [
    "stages"
   ]
  },
  {
   "cell_type": "code",
   "execution_count": 83,
   "metadata": {
    "ExecuteTime": {
     "end_time": "2019-03-21T14:49:54.036834Z",
     "start_time": "2019-03-21T14:49:40.063442Z"
    }
   },
   "outputs": [],
   "source": [
    "from pyspark.ml import Pipeline\n",
    "\n",
    "my_pipeline = Pipeline(stages = stages).fit(fireServiceCallsDF)\n",
    "transformed_df = my_pipeline.transform(fireServiceCallsDF)"
   ]
  },
  {
   "cell_type": "code",
   "execution_count": 97,
   "metadata": {
    "ExecuteTime": {
     "end_time": "2019-03-21T14:53:55.394536Z",
     "start_time": "2019-03-21T14:53:55.232177Z"
    }
   },
   "outputs": [
    {
     "name": "stdout",
     "output_type": "stream",
     "text": [
      "+-----------------------------+--------------+-----------------+----+----------+---------------+\n",
      "|CallType                     |CallType_Index|CallType_classVec|City|City_Index|City_classVec  |\n",
      "+-----------------------------+--------------+-----------------+----+----------+---------------+\n",
      "|Medical Incident             |17.0          |(32,[17],[1.0])  |SF  |17.0      |(27,[17],[1.0])|\n",
      "|Medical Incident             |17.0          |(32,[17],[1.0])  |SF  |17.0      |(27,[17],[1.0])|\n",
      "|Medical Incident             |17.0          |(32,[17],[1.0])  |SF  |17.0      |(27,[17],[1.0])|\n",
      "|Alarms                       |2.0           |(32,[2],[1.0])   |SF  |17.0      |(27,[17],[1.0])|\n",
      "|Medical Incident             |17.0          |(32,[17],[1.0])  |SF  |17.0      |(27,[17],[1.0])|\n",
      "|Citizen Assist / Service Call|4.0           |(32,[4],[1.0])   |SF  |17.0      |(27,[17],[1.0])|\n",
      "|Electrical Hazard            |6.0           |(32,[6],[1.0])   |SF  |17.0      |(27,[17],[1.0])|\n",
      "|Odor (Strange / Unknown)     |19.0          |(32,[19],[1.0])  |SF  |17.0      |(27,[17],[1.0])|\n",
      "|Medical Incident             |17.0          |(32,[17],[1.0])  |SF  |17.0      |(27,[17],[1.0])|\n",
      "|Medical Incident             |17.0          |(32,[17],[1.0])  |SF  |17.0      |(27,[17],[1.0])|\n",
      "|Alarms                       |2.0           |(32,[2],[1.0])   |SF  |17.0      |(27,[17],[1.0])|\n",
      "|Medical Incident             |17.0          |(32,[17],[1.0])  |SF  |17.0      |(27,[17],[1.0])|\n",
      "|Medical Incident             |17.0          |(32,[17],[1.0])  |SF  |17.0      |(27,[17],[1.0])|\n",
      "|Medical Incident             |17.0          |(32,[17],[1.0])  |SF  |17.0      |(27,[17],[1.0])|\n",
      "|Alarms                       |2.0           |(32,[2],[1.0])   |SF  |17.0      |(27,[17],[1.0])|\n",
      "+-----------------------------+--------------+-----------------+----+----------+---------------+\n",
      "only showing top 15 rows\n",
      "\n"
     ]
    }
   ],
   "source": [
    "transformed_df.select( 'CallType', 'CallType_Index', 'CallType_classVec' ,'City', 'City_Index', 'City_classVec' ).show(15, False)"
   ]
  },
  {
   "cell_type": "markdown",
   "metadata": {
    "ExecuteTime": {
     "end_time": "2019-03-21T14:41:22.531369Z",
     "start_time": "2019-03-21T14:41:22.528477Z"
    }
   },
   "source": [
    "## Creating \"Vectors\" for ML"
   ]
  },
  {
   "cell_type": "markdown",
   "metadata": {
    "ExecuteTime": {
     "end_time": "2019-03-21T14:43:13.162414Z",
     "start_time": "2019-03-21T14:43:13.156819Z"
    }
   },
   "source": [
    "In Scikit-Learn or any other python library, we explicitely supply the X and y"
   ]
  },
  {
   "cell_type": "code",
   "execution_count": null,
   "metadata": {
    "ExecuteTime": {
     "end_time": "2019-03-21T15:00:50.275107Z",
     "start_time": "2019-03-21T15:00:50.262895Z"
    }
   },
   "outputs": [],
   "source": [
    "###\n",
    "#Dont run\n",
    "###\n",
    "\n",
    "# scikit learn\n",
    "model = LinearRegression()\n",
    "model.fit(transformed_df[['CallType_Index', 'City_Index']],\n",
    "          transformed_df['FinalPriority'])"
   ]
  },
  {
   "cell_type": "markdown",
   "metadata": {},
   "source": [
    "But in Spark you need to assemble them beforehand using a vector assembler. Notice the **features** column has been added"
   ]
  },
  {
   "cell_type": "code",
   "execution_count": 100,
   "metadata": {
    "ExecuteTime": {
     "end_time": "2019-03-21T14:55:58.126349Z",
     "start_time": "2019-03-21T14:55:58.006952Z"
    }
   },
   "outputs": [
    {
     "data": {
      "text/plain": [
       "DataFrame[CallType: string, CallDate: string, WatchDate: string, ReceivedDtTm: string, EntryDtTm: string, DispatchDtTm: string, CallFinalDisposition: string, City: string, Battalion: string, StationArea: string, FinalPriority: int, ALSUnit: boolean, NumberofAlarms: int, UnitType: string, FirePreventionDistrict: string, SupervisorDistrict: string, NeighborhoodDistrict: string, Location: string, CallDateTS: date, ReceivedTS: timestamp, CallType_Index: double, CallType_classVec: vector, City_Index: double, City_classVec: vector, NeighborhoodDistrict_Index: double, NeighborhoodDistrict_classVec: vector, features: vector]"
      ]
     },
     "execution_count": 100,
     "metadata": {},
     "output_type": "execute_result"
    }
   ],
   "source": [
    "from pyspark.ml.feature import VectorAssembler\n",
    "\n",
    "assembler = VectorAssembler(inputCols=['CallType_Index', 'City_Index'],\n",
    "                            outputCol = 'features')\n",
    "final_df = assembler.transform(transformed_df)\n",
    "final_df\n",
    "\n",
    "stage += [assembler]\n",
    "# model_fit = LinearRegression()\n",
    "# model.fit(transformed_df)"
   ]
  },
  {
   "cell_type": "code",
   "execution_count": 102,
   "metadata": {
    "ExecuteTime": {
     "end_time": "2019-03-21T14:56:47.547499Z",
     "start_time": "2019-03-21T14:56:47.414585Z"
    }
   },
   "outputs": [
    {
     "name": "stdout",
     "output_type": "stream",
     "text": [
      "+--------------+----------+-----------+\n",
      "|CallType_Index|City_Index|   features|\n",
      "+--------------+----------+-----------+\n",
      "|          17.0|      17.0|[17.0,17.0]|\n",
      "|          17.0|      17.0|[17.0,17.0]|\n",
      "|          17.0|      17.0|[17.0,17.0]|\n",
      "|           2.0|      17.0| [2.0,17.0]|\n",
      "|          17.0|      17.0|[17.0,17.0]|\n",
      "|           4.0|      17.0| [4.0,17.0]|\n",
      "|           6.0|      17.0| [6.0,17.0]|\n",
      "|          19.0|      17.0|[19.0,17.0]|\n",
      "|          17.0|      17.0|[17.0,17.0]|\n",
      "|          17.0|      17.0|[17.0,17.0]|\n",
      "|           2.0|      17.0| [2.0,17.0]|\n",
      "|          17.0|      17.0|[17.0,17.0]|\n",
      "|          17.0|      17.0|[17.0,17.0]|\n",
      "|          17.0|      17.0|[17.0,17.0]|\n",
      "|           2.0|      17.0| [2.0,17.0]|\n",
      "|           2.0|      17.0| [2.0,17.0]|\n",
      "|          17.0|      17.0|[17.0,17.0]|\n",
      "|          21.0|      17.0|[21.0,17.0]|\n",
      "|          17.0|      17.0|[17.0,17.0]|\n",
      "|          24.0|      17.0|[24.0,17.0]|\n",
      "+--------------+----------+-----------+\n",
      "only showing top 20 rows\n",
      "\n"
     ]
    }
   ],
   "source": [
    "final_df.select('CallType_Index', 'City_Index',\"features\").show()"
   ]
  },
  {
   "cell_type": "markdown",
   "metadata": {},
   "source": [
    "## Creating Pipelines"
   ]
  },
  {
   "cell_type": "markdown",
   "metadata": {},
   "source": [
    "We will create a pipeline for all the transformations we did aboave for all the categorical and numerical variables"
   ]
  },
  {
   "cell_type": "code",
   "execution_count": null,
   "metadata": {},
   "outputs": [],
   "source": [
    "###\n",
    "#Dont run\n",
    "###\n",
    "\n",
    "stages = []\n",
    "\n",
    "from pyspark.ml.feature import ( OneHotEncoderEstimator, StringIndexer, VectorAssembler, OneHotEncoder)\n",
    "from pyspark.ml import Pipeline\n",
    "\n",
    "# other transformations\n",
    "# renaming, changing data types etc\n",
    "\n",
    "# string Indexer\n",
    "for var in categorical_variables:\n",
    "    ...\n",
    "    stages += [indexer, encoder]\n",
    "\n",
    "# Vector Assembler\n",
    "assembler = VectorAssembler(inputCols=[\"col1\", \"col2\", \"col3\"], outputCol=\"features\")\n",
    "stages += [assembler]"
   ]
  },
  {
   "cell_type": "code",
   "execution_count": 106,
   "metadata": {
    "ExecuteTime": {
     "end_time": "2019-03-21T15:05:15.430821Z",
     "start_time": "2019-03-21T15:05:15.422581Z"
    }
   },
   "outputs": [
    {
     "data": {
      "text/plain": [
       "[StringIndexer_74efb36f15bb,\n",
       " OneHotEncoder_a430e046a265,\n",
       " StringIndexer_077eb3f96833,\n",
       " OneHotEncoder_b45a0b37a180,\n",
       " StringIndexer_7ea1d1ea5f0c,\n",
       " OneHotEncoder_4a685b60a894,\n",
       " VectorAssembler_d0f6149ee2ff]"
      ]
     },
     "execution_count": 106,
     "metadata": {},
     "output_type": "execute_result"
    }
   ],
   "source": [
    "stages"
   ]
  },
  {
   "cell_type": "code",
   "execution_count": 109,
   "metadata": {
    "ExecuteTime": {
     "end_time": "2019-03-21T15:06:40.717372Z",
     "start_time": "2019-03-21T15:06:26.630549Z"
    }
   },
   "outputs": [
    {
     "data": {
      "text/plain": [
       "DataFrame[CallType: string, CallDate: string, WatchDate: string, ReceivedDtTm: string, EntryDtTm: string, DispatchDtTm: string, CallFinalDisposition: string, City: string, Battalion: string, StationArea: string, FinalPriority: int, ALSUnit: boolean, NumberofAlarms: int, UnitType: string, FirePreventionDistrict: string, SupervisorDistrict: string, NeighborhoodDistrict: string, Location: string, CallDateTS: date, ReceivedTS: timestamp, CallType_Index: double, CallType_classVec: vector, City_Index: double, City_classVec: vector, NeighborhoodDistrict_Index: double, NeighborhoodDistrict_classVec: vector, features: vector]"
      ]
     },
     "execution_count": 109,
     "metadata": {},
     "output_type": "execute_result"
    }
   ],
   "source": [
    "# run togather\n",
    "pipeline_fit = Pipeline(stages=stages).fit(fireServiceCallsDF)          # fit\n",
    "transformed_fireServiceDF = pipeline_fit.transform(fireServiceCallsDF)  # transform\n",
    "transformed_fireServiceDF"
   ]
  },
  {
   "cell_type": "code",
   "execution_count": 110,
   "metadata": {
    "ExecuteTime": {
     "end_time": "2019-03-21T15:07:22.609172Z",
     "start_time": "2019-03-21T15:07:22.457552Z"
    }
   },
   "outputs": [
    {
     "name": "stdout",
     "output_type": "stream",
     "text": [
      "+-----------+-------------+\n",
      "|   features|FinalPriority|\n",
      "+-----------+-------------+\n",
      "|[17.0,17.0]|            3|\n",
      "|[17.0,17.0]|            3|\n",
      "|[17.0,17.0]|            3|\n",
      "| [2.0,17.0]|            3|\n",
      "|[17.0,17.0]|            3|\n",
      "+-----------+-------------+\n",
      "only showing top 5 rows\n",
      "\n"
     ]
    }
   ],
   "source": [
    "transformed_fireServiceDF.select(\"features\", \"FinalPriority\").show(5)"
   ]
  },
  {
   "cell_type": "markdown",
   "metadata": {},
   "source": [
    "## Patitioning, Caching and Optimizations"
   ]
  },
  {
   "cell_type": "markdown",
   "metadata": {},
   "source": [
    "The DataFrame is currently comprised of 14 partitions. Spark reads data in blocks of 128MB called as partitions."
   ]
  },
  {
   "cell_type": "code",
   "execution_count": 129,
   "metadata": {
    "ExecuteTime": {
     "end_time": "2019-03-21T15:21:20.212265Z",
     "start_time": "2019-03-21T15:21:20.186336Z"
    }
   },
   "outputs": [
    {
     "data": {
      "text/plain": [
       "14"
      ]
     },
     "execution_count": 129,
     "metadata": {},
     "output_type": "execute_result"
    }
   ],
   "source": [
    "fireServiceCallsDF.rdd.getNumPartitions()"
   ]
  },
  {
   "cell_type": "code",
   "execution_count": 130,
   "metadata": {
    "ExecuteTime": {
     "end_time": "2019-03-21T15:21:22.819219Z",
     "start_time": "2019-03-21T15:21:21.651261Z"
    }
   },
   "outputs": [
    {
     "data": {
      "text/plain": [
       "4881698"
      ]
     },
     "execution_count": 130,
     "metadata": {},
     "output_type": "execute_result"
    }
   ],
   "source": [
    "fireServiceCallsDF.count()"
   ]
  },
  {
   "cell_type": "markdown",
   "metadata": {},
   "source": [
    "![file partitions](./images/file_partitions.png)"
   ]
  },
  {
   "cell_type": "markdown",
   "metadata": {},
   "source": [
    "### Remeber the number of executors we defined while creating our cluster\n",
    "\n",
    "Notice the last 2 tasks are continuing on their own, leaving other core idle."
   ]
  },
  {
   "cell_type": "markdown",
   "metadata": {},
   "source": [
    "![executors](./images/executors.png)"
   ]
  },
  {
   "cell_type": "markdown",
   "metadata": {
    "ExecuteTime": {
     "end_time": "2019-03-21T15:20:16.742231Z",
     "start_time": "2019-03-21T15:20:16.736818Z"
    }
   },
   "source": [
    "## Repartition and Caching"
   ]
  },
  {
   "cell_type": "code",
   "execution_count": 131,
   "metadata": {
    "ExecuteTime": {
     "end_time": "2019-03-21T15:21:28.332314Z",
     "start_time": "2019-03-21T15:21:28.328687Z"
    }
   },
   "outputs": [],
   "source": [
    "fireServiceCallsDF = fireServiceCallsDF.repartition(6)\n",
    "fireServiceCallsDF.cache()\n",
    "fireServiceCallsDF.count() # EXECUTE the cache"
   ]
  },
  {
   "cell_type": "code",
   "execution_count": 132,
   "metadata": {
    "ExecuteTime": {
     "end_time": "2019-03-21T15:21:38.131076Z",
     "start_time": "2019-03-21T15:21:38.124563Z"
    }
   },
   "outputs": [
    {
     "data": {
      "text/plain": [
       "6"
      ]
     },
     "execution_count": 132,
     "metadata": {},
     "output_type": "execute_result"
    }
   ],
   "source": [
    "fireServiceCallsDF.rdd.getNumPartitions()"
   ]
  },
  {
   "cell_type": "markdown",
   "metadata": {},
   "source": [
    "The 6 partitions are now cached in memory:"
   ]
  },
  {
   "cell_type": "markdown",
   "metadata": {},
   "source": [
    "![6 Partitions](http://curriculum-release.s3-website-us-west-2.amazonaws.com/sf_open_data_meetup/df_6_parts.png)"
   ]
  },
  {
   "cell_type": "markdown",
   "metadata": {},
   "source": [
    "Use the Spark UI to see the 6 partitions in memory:"
   ]
  },
  {
   "cell_type": "markdown",
   "metadata": {},
   "source": [
    "![Mem UI](http://curriculum-release.s3-website-us-west-2.amazonaws.com/sf_open_data_meetup/mem_ui.png)"
   ]
  },
  {
   "cell_type": "code",
   "execution_count": 133,
   "metadata": {
    "ExecuteTime": {
     "end_time": "2019-03-21T15:21:41.826830Z",
     "start_time": "2019-03-21T15:21:40.316982Z"
    }
   },
   "outputs": [
    {
     "data": {
      "text/plain": [
       "4881698"
      ]
     },
     "execution_count": 133,
     "metadata": {},
     "output_type": "execute_result"
    }
   ],
   "source": [
    "fireServiceCallsDF.count()"
   ]
  },
  {
   "cell_type": "markdown",
   "metadata": {},
   "source": [
    "![repart](./images/repartition.png)"
   ]
  },
  {
   "cell_type": "markdown",
   "metadata": {},
   "source": [
    "## Saving to Parquet"
   ]
  },
  {
   "cell_type": "markdown",
   "metadata": {},
   "source": [
    "Now that our data has the correct date types for each column and it is correctly partitioned, let's write it down as a parquet file for future loading\n",
    "\n",
    "Wrting to parquet is expensive, but reading is dead fast\n",
    "\n",
    "Saves a lot of space"
   ]
  },
  {
   "cell_type": "code",
   "execution_count": 134,
   "metadata": {
    "ExecuteTime": {
     "end_time": "2019-03-21T15:28:47.910572Z",
     "start_time": "2019-03-21T15:27:56.454970Z"
    }
   },
   "outputs": [],
   "source": [
    "fireServiceCallsDF.write.parquet(\"./data/my_feature_file.parquet\", mode='overwrite')"
   ]
  },
  {
   "cell_type": "code",
   "execution_count": 135,
   "metadata": {
    "ExecuteTime": {
     "end_time": "2019-03-21T15:29:22.209876Z",
     "start_time": "2019-03-21T15:29:21.577012Z"
    }
   },
   "outputs": [
    {
     "data": {
      "text/plain": [
       "4881698"
      ]
     },
     "execution_count": 135,
     "metadata": {},
     "output_type": "execute_result"
    }
   ],
   "source": [
    "spark.read.parquet('./data/my_feature_file.parquet').count()"
   ]
  },
  {
   "cell_type": "markdown",
   "metadata": {},
   "source": [
    "### Save to Postgress"
   ]
  },
  {
   "cell_type": "code",
   "execution_count": null,
   "metadata": {},
   "outputs": [],
   "source": [
    "fireServiceCallsDF.select('CallDateTS', 'CallType').write\\\n",
    "      .format(\"jdbc\")\\\n",
    "      .option(\"driver\", \"org.postgresql.Driver\")\\\n",
    "      .option(\"url\", \"jdbc:postgresql://localhost:5432/spark_demo_db\")\\\n",
    "      .option(\"dbtable\", \"fire_service_over_time\")\\\n",
    "      .option(\"user\", \"sahil\")\\\n",
    "      .option(\"password\",\"zxcvbnm\")\\\n",
    "      .mode(\"overwrite\")\\\n",
    "      .save()"
   ]
  },
  {
   "cell_type": "markdown",
   "metadata": {},
   "source": [
    "### Save to Cassandra"
   ]
  },
  {
   "cell_type": "markdown",
   "metadata": {},
   "source": [
    "You need to have created an already existing table in cassandra. Open CQLSH and execute the following commands to create a table"
   ]
  },
  {
   "cell_type": "code",
   "execution_count": null,
   "metadata": {},
   "outputs": [],
   "source": [
    "## execute in cqlsh\n",
    "\n",
    "CREATE KEYSPACE my_key_space WITH replication = {'class': 'SimpleStrategy', 'replication_factor': 1};\n",
    "USE my_key_space ;\n",
    "CREATE TABLE my_table(CallDateTS timestamp PRIMARY KEY , CallType text, IncidentNumber text PRIMARY KEY );"
   ]
  },
  {
   "cell_type": "code",
   "execution_count": 153,
   "metadata": {
    "ExecuteTime": {
     "end_time": "2019-03-21T15:47:37.268337Z",
     "start_time": "2019-03-21T15:47:31.938015Z"
    }
   },
   "outputs": [
    {
     "name": "stdout",
     "output_type": "stream",
     "text": [
      "+----------+----------------+--------------+\n",
      "|CallDateTS|        CallType|IncidentNumber|\n",
      "+----------+----------------+--------------+\n",
      "|2001-02-28|Medical Incident|       1017815|\n",
      "|2001-01-17|Medical Incident|       1005163|\n",
      "|2001-08-09|Medical Incident|       1068465|\n",
      "|2001-05-05|Medical Incident|       1038627|\n",
      "|2000-12-01|          Alarms|        100347|\n",
      "|2001-02-14|          Alarms|       1013594|\n",
      "|2001-05-31|Medical Incident|       1046442|\n",
      "|2001-09-06|Medical Incident|       1076623|\n",
      "|2000-07-02|          Alarms|         55245|\n",
      "|2000-12-14|Medical Incident|        104347|\n",
      "|2001-06-09|    Outside Fire|       1049586|\n",
      "|2001-05-24|Medical Incident|       1044282|\n",
      "|2001-11-17|Medical Incident|       1098727|\n",
      "|2000-06-28|Medical Incident|         53933|\n",
      "|2000-07-17|Medical Incident|         59767|\n",
      "|2001-05-17|  Structure Fire|       1042166|\n",
      "|2001-07-28|Medical Incident|       1064646|\n",
      "|2001-08-25|Medical Incident|       1073367|\n",
      "|2001-04-06|Medical Incident|       1029278|\n",
      "|2000-07-05|Medical Incident|         56063|\n",
      "+----------+----------------+--------------+\n",
      "only showing top 20 rows\n",
      "\n"
     ]
    }
   ],
   "source": [
    "fireServiceCallsDF.select('CallDateTS', 'CallType', 'IncidentNumber').show()"
   ]
  },
  {
   "cell_type": "code",
   "execution_count": 163,
   "metadata": {
    "ExecuteTime": {
     "end_time": "2019-03-21T15:53:06.804839Z",
     "start_time": "2019-03-21T15:52:33.181874Z"
    }
   },
   "outputs": [],
   "source": [
    "df = fireServiceCallsDF.select(\"CallDateTS\", \"CallType\", \"IncidentNumber\").limit(500000)\n",
    "\n",
    "# lower case the column names\n",
    "for col in df.columns:\n",
    "    df = df.withColumnRenamed(col, col.lower())\n",
    "\n",
    "df.write.format(\"org.apache.spark.sql.cassandra\")\\\n",
    "          .option(\"spark.cassandra.connection.host\",\"localhost\")\\\n",
    "          .option(\"spark.cassandra.connection.port\",\"9042\")\\\n",
    "          .option(\"keyspace\",\"my_key_space\")\\\n",
    "          .option(\"table\",\"my_table2\")\\\n",
    "          .option(\"confirm.truncate\",\"true\")\\\n",
    "          .mode(\"overwrite\")\\\n",
    "          .save()"
   ]
  },
  {
   "cell_type": "code",
   "execution_count": null,
   "metadata": {},
   "outputs": [],
   "source": []
  }
 ],
 "metadata": {
  "kernelspec": {
   "display_name": "Python 3",
   "language": "python",
   "name": "python3"
  },
  "language_info": {
   "codemirror_mode": {
    "name": "ipython",
    "version": 3
   },
   "file_extension": ".py",
   "mimetype": "text/x-python",
   "name": "python",
   "nbconvert_exporter": "python",
   "pygments_lexer": "ipython3",
   "version": "3.5.2"
  },
  "name": "Fire Incidents Exploration - ReadMe",
  "notebookId": 2603685152685207
 },
 "nbformat": 4,
 "nbformat_minor": 1
}
